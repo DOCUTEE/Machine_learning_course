{
 "cells": [
  {
   "cell_type": "markdown",
   "metadata": {},
   "source": [
    "# Lab 2 - Spark SQL Lab\n",
    "\n",
    "- Họ và tên: Nguyễn Minh Quang\n",
    "\n",
    "- MSSV: 22133045"
   ]
  },
  {
   "cell_type": "markdown",
   "metadata": {},
   "source": [
    "## 1. Thiết lập SQLSession\n",
    "\n",
    "**Chú ý**: Để thực thi được các đoạn mã kết nối đến Northwind SQLite database ở bên dưới bạn cần đặt file `sqlite-jdbc-3.50.3.0.jar` cùng thư mục với file `.ipynb`.\n",
    "\n",
    "- Tham khảo: https://spark.apache.org/docs/latest/sql-data-sources-jdbc.html"
   ]
  },
  {
   "cell_type": "code",
   "execution_count": 2,
   "metadata": {},
   "outputs": [
    {
     "name": "stdout",
     "output_type": "stream",
     "text": [
      "Collecting findspark\n",
      "  Downloading findspark-2.0.1-py2.py3-none-any.whl.metadata (352 bytes)\n",
      "Downloading findspark-2.0.1-py2.py3-none-any.whl (4.4 kB)\n",
      "Installing collected packages: findspark\n",
      "Successfully installed findspark-2.0.1\n"
     ]
    }
   ],
   "source": [
    "!pip install findspark"
   ]
  },
  {
   "cell_type": "code",
   "execution_count": 3,
   "metadata": {},
   "outputs": [],
   "source": [
    "import findspark\n",
    "findspark.init()\n",
    "\n",
    "import pyspark\n",
    "findspark.find()\n",
    "\n",
    "import os\n",
    "from pyspark.sql import SparkSession\n",
    "\n",
    "spark = (SparkSession.builder\n",
    "    .master(\"local\")\n",
    "    .appName(\"SQLite JDBC\")\n",
    "    .config(\n",
    "        \"spark.jars\",\n",
    "        \"{}/sqlite-jdbc-3.50.3.0.jar\".format(os.getcwd()))\n",
    "    .config(\n",
    "        \"spark.driver.extraClassPath\",\n",
    "        \"{}/sqlite-jdbc-3.50.3.0.jar\".format(os.getcwd()))\n",
    "    .getOrCreate())"
   ]
  },
  {
   "cell_type": "markdown",
   "metadata": {},
   "source": [
    "## 2. Tạo các dataframe từ các table\n",
    "\n",
    "Ở bài lab này ta sẽ làm việc với CSDL Northwind. Ta sẽ kết nối đến Northwind SQLite database và tạo ra các dataframe từ các table của CSDL này.\n",
    "\n",
    "Bạn có thể xem lược đồ CSDL Northwind ở hình sau. \n",
    "\n",
    "![Northwind Schema](./Northwind.png)\n",
    "\n",
    "**Chú ý**: **tên bảng và một số thuộc tính** trong hình **không giống hoàn toàn** với CSDL trong file **Northwind.sqlite**."
   ]
  },
  {
   "cell_type": "code",
   "execution_count": 4,
   "metadata": {},
   "outputs": [],
   "source": [
    "emp = spark.read.format('jdbc').\\\n",
    "     options(url='jdbc:sqlite:Northwind.sqlite',\\\n",
    "     dbtable='employee',driver='org.sqlite.JDBC').load()"
   ]
  },
  {
   "cell_type": "code",
   "execution_count": 5,
   "metadata": {
    "editable": true,
    "slideshow": {
     "slide_type": "fragment"
    },
    "tags": []
   },
   "outputs": [
    {
     "name": "stdout",
     "output_type": "stream",
     "text": [
      "root\n",
      " |-- Id: integer (nullable = true)\n",
      " |-- LastName: string (nullable = true)\n",
      " |-- FirstName: string (nullable = true)\n",
      " |-- Title: string (nullable = true)\n",
      " |-- TitleOfCourtesy: string (nullable = true)\n",
      " |-- BirthDate: string (nullable = true)\n",
      " |-- HireDate: string (nullable = true)\n",
      " |-- Address: string (nullable = true)\n",
      " |-- City: string (nullable = true)\n",
      " |-- Region: string (nullable = true)\n",
      " |-- PostalCode: string (nullable = true)\n",
      " |-- Country: string (nullable = true)\n",
      " |-- HomePhone: string (nullable = true)\n",
      " |-- Extension: string (nullable = true)\n",
      " |-- Photo: binary (nullable = true)\n",
      " |-- Notes: string (nullable = true)\n",
      " |-- ReportsTo: integer (nullable = true)\n",
      " |-- PhotoPath: string (nullable = true)\n",
      "\n"
     ]
    }
   ],
   "source": [
    "emp.printSchema()"
   ]
  },
  {
   "cell_type": "code",
   "execution_count": 6,
   "metadata": {},
   "outputs": [],
   "source": [
    "ord = spark.read.format('jdbc').\\\n",
    "     options(url='jdbc:sqlite:Northwind.sqlite',\\\n",
    "     dbtable='[order]',driver='org.sqlite.JDBC').load()"
   ]
  },
  {
   "cell_type": "code",
   "execution_count": 8,
   "metadata": {},
   "outputs": [
    {
     "name": "stdout",
     "output_type": "stream",
     "text": [
      "root\n",
      " |-- Id: integer (nullable = true)\n",
      " |-- CustomerId: string (nullable = true)\n",
      " |-- EmployeeId: integer (nullable = true)\n",
      " |-- OrderDate: string (nullable = true)\n",
      " |-- RequiredDate: string (nullable = true)\n",
      " |-- ShippedDate: string (nullable = true)\n",
      " |-- ShipVia: integer (nullable = true)\n",
      " |-- Freight: decimal(38,18) (nullable = true)\n",
      " |-- ShipName: string (nullable = true)\n",
      " |-- ShipAddress: string (nullable = true)\n",
      " |-- ShipCity: string (nullable = true)\n",
      " |-- ShipRegion: string (nullable = true)\n",
      " |-- ShipPostalCode: string (nullable = true)\n",
      " |-- ShipCountry: string (nullable = true)\n",
      "\n"
     ]
    }
   ],
   "source": [
    "ord.printSchema()"
   ]
  },
  {
   "cell_type": "code",
   "execution_count": 9,
   "metadata": {},
   "outputs": [],
   "source": [
    "cat = spark.read.format('jdbc').\\\n",
    "     options(url='jdbc:sqlite:Northwind.sqlite',\\\n",
    "     dbtable='category',driver='org.sqlite.JDBC').load()"
   ]
  },
  {
   "cell_type": "code",
   "execution_count": 10,
   "metadata": {},
   "outputs": [
    {
     "name": "stdout",
     "output_type": "stream",
     "text": [
      "root\n",
      " |-- Id: integer (nullable = true)\n",
      " |-- CategoryName: string (nullable = true)\n",
      " |-- Description: string (nullable = true)\n",
      "\n"
     ]
    }
   ],
   "source": [
    "cat.printSchema()"
   ]
  },
  {
   "cell_type": "code",
   "execution_count": 11,
   "metadata": {},
   "outputs": [],
   "source": [
    "cus = spark.read.format('jdbc').\\\n",
    "     options(url='jdbc:sqlite:Northwind.sqlite',\\\n",
    "     dbtable='customer',driver='org.sqlite.JDBC').load()"
   ]
  },
  {
   "cell_type": "code",
   "execution_count": 15,
   "metadata": {},
   "outputs": [
    {
     "name": "stdout",
     "output_type": "stream",
     "text": [
      "root\n",
      " |-- Id: string (nullable = true)\n",
      " |-- CompanyName: string (nullable = true)\n",
      " |-- ContactName: string (nullable = true)\n",
      " |-- ContactTitle: string (nullable = true)\n",
      " |-- Address: string (nullable = true)\n",
      " |-- City: string (nullable = true)\n",
      " |-- Region: string (nullable = true)\n",
      " |-- PostalCode: string (nullable = true)\n",
      " |-- Country: string (nullable = true)\n",
      " |-- Phone: string (nullable = true)\n",
      " |-- Fax: string (nullable = true)\n",
      "\n"
     ]
    }
   ],
   "source": [
    "cus.printSchema()"
   ]
  },
  {
   "cell_type": "code",
   "execution_count": 16,
   "metadata": {},
   "outputs": [],
   "source": [
    "od = spark.read.format('jdbc').\\\n",
    "     options(url='jdbc:sqlite:Northwind.sqlite',\\\n",
    "     dbtable='orderdetail',driver='org.sqlite.JDBC').load()"
   ]
  },
  {
   "cell_type": "code",
   "execution_count": 17,
   "metadata": {},
   "outputs": [
    {
     "name": "stdout",
     "output_type": "stream",
     "text": [
      "root\n",
      " |-- Id: string (nullable = true)\n",
      " |-- OrderId: integer (nullable = true)\n",
      " |-- ProductId: integer (nullable = true)\n",
      " |-- UnitPrice: decimal(38,18) (nullable = true)\n",
      " |-- Quantity: integer (nullable = true)\n",
      " |-- Discount: double (nullable = true)\n",
      "\n"
     ]
    }
   ],
   "source": [
    "od.printSchema()"
   ]
  },
  {
   "cell_type": "code",
   "execution_count": 18,
   "metadata": {},
   "outputs": [],
   "source": [
    "reg = spark.read.format('jdbc').\\\n",
    "     options(url='jdbc:sqlite:Northwind.sqlite',\\\n",
    "     dbtable='region',driver='org.sqlite.JDBC').load()"
   ]
  },
  {
   "cell_type": "code",
   "execution_count": 19,
   "metadata": {},
   "outputs": [
    {
     "name": "stdout",
     "output_type": "stream",
     "text": [
      "root\n",
      " |-- Id: integer (nullable = true)\n",
      " |-- RegionDescription: string (nullable = true)\n",
      "\n"
     ]
    }
   ],
   "source": [
    "reg.printSchema()"
   ]
  },
  {
   "cell_type": "code",
   "execution_count": 20,
   "metadata": {},
   "outputs": [],
   "source": [
    "sp = spark.read.format('jdbc').\\\n",
    "     options(url='jdbc:sqlite:Northwind.sqlite',\\\n",
    "     dbtable='shipper',driver='org.sqlite.JDBC').load()"
   ]
  },
  {
   "cell_type": "code",
   "execution_count": 21,
   "metadata": {},
   "outputs": [
    {
     "name": "stdout",
     "output_type": "stream",
     "text": [
      "root\n",
      " |-- Id: integer (nullable = true)\n",
      " |-- CompanyName: string (nullable = true)\n",
      " |-- Phone: string (nullable = true)\n",
      "\n"
     ]
    }
   ],
   "source": [
    "sp.printSchema()"
   ]
  },
  {
   "cell_type": "code",
   "execution_count": 22,
   "metadata": {},
   "outputs": [],
   "source": [
    "sup = spark.read.format('jdbc').\\\n",
    "     options(url='jdbc:sqlite:Northwind.sqlite',\\\n",
    "     dbtable='supplier',driver='org.sqlite.JDBC').load()"
   ]
  },
  {
   "cell_type": "code",
   "execution_count": 23,
   "metadata": {},
   "outputs": [
    {
     "name": "stdout",
     "output_type": "stream",
     "text": [
      "root\n",
      " |-- Id: integer (nullable = true)\n",
      " |-- CompanyName: string (nullable = true)\n",
      " |-- ContactName: string (nullable = true)\n",
      " |-- ContactTitle: string (nullable = true)\n",
      " |-- Address: string (nullable = true)\n",
      " |-- City: string (nullable = true)\n",
      " |-- Region: string (nullable = true)\n",
      " |-- PostalCode: string (nullable = true)\n",
      " |-- Country: string (nullable = true)\n",
      " |-- Phone: string (nullable = true)\n",
      " |-- Fax: string (nullable = true)\n",
      " |-- HomePage: string (nullable = true)\n",
      "\n"
     ]
    }
   ],
   "source": [
    "sup.printSchema()"
   ]
  },
  {
   "cell_type": "code",
   "execution_count": 24,
   "metadata": {},
   "outputs": [],
   "source": [
    "ter = spark.read.format('jdbc').\\\n",
    "     options(url='jdbc:sqlite:Northwind.sqlite',\\\n",
    "     dbtable='territory',driver='org.sqlite.JDBC').load()"
   ]
  },
  {
   "cell_type": "code",
   "execution_count": 25,
   "metadata": {},
   "outputs": [
    {
     "name": "stdout",
     "output_type": "stream",
     "text": [
      "root\n",
      " |-- Id: string (nullable = true)\n",
      " |-- TerritoryDescription: string (nullable = true)\n",
      " |-- RegionId: integer (nullable = true)\n",
      "\n"
     ]
    }
   ],
   "source": [
    "ter.printSchema()"
   ]
  },
  {
   "cell_type": "code",
   "execution_count": 26,
   "metadata": {},
   "outputs": [],
   "source": [
    "empter = spark.read.format('jdbc').\\\n",
    "     options(url='jdbc:sqlite:Northwind.sqlite',\\\n",
    "     dbtable='employeeterritory',driver='org.sqlite.JDBC').load()"
   ]
  },
  {
   "cell_type": "code",
   "execution_count": 27,
   "metadata": {},
   "outputs": [
    {
     "name": "stdout",
     "output_type": "stream",
     "text": [
      "root\n",
      " |-- Id: string (nullable = true)\n",
      " |-- EmployeeId: integer (nullable = true)\n",
      " |-- TerritoryId: string (nullable = true)\n",
      "\n"
     ]
    }
   ],
   "source": [
    "empter.printSchema()"
   ]
  },
  {
   "cell_type": "code",
   "execution_count": 28,
   "metadata": {},
   "outputs": [],
   "source": [
    "prod = spark.read.format('jdbc').\\\n",
    "     options(url='jdbc:sqlite:Northwind.sqlite',\\\n",
    "     dbtable='product',driver='org.sqlite.JDBC').load()"
   ]
  },
  {
   "cell_type": "code",
   "execution_count": 30,
   "metadata": {},
   "outputs": [
    {
     "name": "stdout",
     "output_type": "stream",
     "text": [
      "root\n",
      " |-- Id: integer (nullable = true)\n",
      " |-- ProductName: string (nullable = true)\n",
      " |-- SupplierId: integer (nullable = true)\n",
      " |-- CategoryId: integer (nullable = true)\n",
      " |-- QuantityPerUnit: string (nullable = true)\n",
      " |-- UnitPrice: decimal(38,18) (nullable = true)\n",
      " |-- UnitsInStock: integer (nullable = true)\n",
      " |-- UnitsOnOrder: integer (nullable = true)\n",
      " |-- ReorderLevel: integer (nullable = true)\n",
      " |-- Discontinued: integer (nullable = true)\n",
      "\n"
     ]
    }
   ],
   "source": [
    "prod.printSchema()"
   ]
  },
  {
   "cell_type": "markdown",
   "metadata": {},
   "source": [
    "## 3. Tạo các temp view cho các dataframe"
   ]
  },
  {
   "cell_type": "code",
   "execution_count": 31,
   "metadata": {},
   "outputs": [],
   "source": [
    "cat.createOrReplaceTempView(\"category\")\n",
    "cus.createOrReplaceTempView(\"customer\")\n",
    "emp.createOrReplaceTempView(\"employee\")\n",
    "empter.createOrReplaceTempView(\"employeeterritory\")\n",
    "ord.createOrReplaceTempView(\"order\")\n",
    "od.createOrReplaceTempView(\"orderdetail\")\n",
    "prod.createOrReplaceTempView(\"product\")\n",
    "reg.createOrReplaceTempView(\"region\")\n",
    "sp.createOrReplaceTempView(\"shipper\")\n",
    "sup.createOrReplaceTempView(\"supplier\")\n",
    "ter.createOrReplaceTempView(\"territory\")"
   ]
  },
  {
   "cell_type": "markdown",
   "metadata": {},
   "source": [
    "## 4. Xem vài dòng đầu của các table"
   ]
  },
  {
   "cell_type": "code",
   "execution_count": 32,
   "metadata": {},
   "outputs": [
    {
     "name": "stdout",
     "output_type": "stream",
     "text": [
      "+---+------------+-----------+\n",
      "| Id|CategoryName|Description|\n",
      "+---+------------+-----------+\n",
      "|  1|   Beverages| Soft dr...|\n",
      "|  2|  Condiments| Sweet a...|\n",
      "|  3|  Confect...| Dessert...|\n",
      "|  4|  Dairy P...|    Cheeses|\n",
      "|  5|  Grains/...| Breads,...|\n",
      "+---+------------+-----------+\n",
      "only showing top 5 rows\n",
      "\n"
     ]
    }
   ],
   "source": [
    "query = \"\"\" \n",
    "    select *\n",
    "    from category\n",
    "\"\"\"\n",
    "spark.sql(query).show(n=5, truncate=10)"
   ]
  },
  {
   "cell_type": "code",
   "execution_count": 33,
   "metadata": {},
   "outputs": [
    {
     "name": "stdout",
     "output_type": "stream",
     "text": [
      "+-----+-----------+-----------+------------+----------+----------+----------+----------+-------+----------+----------+\n",
      "|   Id|CompanyName|ContactName|ContactTitle|   Address|      City|    Region|PostalCode|Country|     Phone|       Fax|\n",
      "+-----+-----------+-----------+------------+----------+----------+----------+----------+-------+----------+----------+\n",
      "|ALFKI| Alfreds...| Maria A...|  Sales R...|Obere S...|    Berlin|Western...|     12209|Germany|030-007...|030-007...|\n",
      "|ANATR| Ana Tru...| Ana Tru...|       Owner|Avda. d...|México ...|Central...|     05021| Mexico|(5) 555...|(5) 555...|\n",
      "|ANTON| Antonio...| Antonio...|       Owner|Matader...|México ...|Central...|     05023| Mexico|(5) 555...|      NULL|\n",
      "|AROUT| Around ...| Thomas ...|  Sales R...|120 Han...|    London|British...|   WA1 1DP|     UK|(171) 5...|(171) 5...|\n",
      "|BERGS| Berglun...| Christi...|  Order A...|Berguvs...|     Luleå|Norther...|  S-958 22| Sweden|0921-12...|0921-12...|\n",
      "+-----+-----------+-----------+------------+----------+----------+----------+----------+-------+----------+----------+\n",
      "only showing top 5 rows\n",
      "\n"
     ]
    }
   ],
   "source": [
    "query = \"\"\" \n",
    "    select *\n",
    "    from customer\n",
    "\"\"\"\n",
    "spark.sql(query).show(n=5, truncate=10)"
   ]
  },
  {
   "cell_type": "code",
   "execution_count": 49,
   "metadata": {},
   "outputs": [
    {
     "name": "stdout",
     "output_type": "stream",
     "text": [
      "+---+---------+---------+----------+---------------+----------+----------+----------+--------+----------+----------+-------+----------+---------+-----+----------+---------+----------+\n",
      "| Id| LastName|FirstName|     Title|TitleOfCourtesy| BirthDate|  HireDate|   Address|    City|    Region|PostalCode|Country| HomePhone|Extension|Photo|     Notes|ReportsTo| PhotoPath|\n",
      "+---+---------+---------+----------+---------------+----------+----------+----------+--------+----------+----------+-------+----------+---------+-----+----------+---------+----------+\n",
      "|  1|  Davolio|    Nancy|Sales R...|            Ms.|1980-12-08|2024-05-01|507 - 2...| Seattle|North A...|     98122|    USA|(206) 5...|     5467| NULL|Educati...|        2|http://...|\n",
      "|  2|   Fuller|   Andrew|Vice Pr...|            Dr.|1984-02-19|2024-08-14|908 W. ...|  Tacoma|North A...|     98401|    USA|(206) 5...|     3457| NULL|Andrew ...|     NULL|http://...|\n",
      "|  3|Leverling|    Janet|Sales R...|            Ms.|1995-08-30|2024-04-01|722 Mos...|Kirkland|North A...|     98033|    USA|(206) 5...|     3355| NULL|Janet h...|        2|http://...|\n",
      "|  4|  Peacock| Margaret|Sales R...|           Mrs.|1969-09-19|2025-05-03|4110 Ol...| Redmond|North A...|     98052|    USA|(206) 5...|     5176| NULL|Margare...|        2|http://...|\n",
      "|  5| Buchanan|   Steven|Sales M...|            Mr.|1987-03-04|2025-10-17|14 Garr...|  London|British...|   SW1 8JR|     UK|(71) 55...|     3453| NULL|Steven ...|        2|http://...|\n",
      "+---+---------+---------+----------+---------------+----------+----------+----------+--------+----------+----------+-------+----------+---------+-----+----------+---------+----------+\n",
      "only showing top 5 rows\n",
      "\n"
     ]
    }
   ],
   "source": [
    "query = \"\"\" \n",
    "    select *\n",
    "    from employee\n",
    "\"\"\"\n",
    "spark.sql(query).show(n=5, truncate=10)"
   ]
  },
  {
   "cell_type": "code",
   "execution_count": 36,
   "metadata": {},
   "outputs": [
    {
     "name": "stdout",
     "output_type": "stream",
     "text": [
      "+-------+----------+-----------+\n",
      "|     Id|EmployeeId|TerritoryId|\n",
      "+-------+----------+-----------+\n",
      "|1/06897|         1|      06897|\n",
      "|1/19713|         1|      19713|\n",
      "|2/01581|         2|      01581|\n",
      "|2/01730|         2|      01730|\n",
      "|2/01833|         2|      01833|\n",
      "+-------+----------+-----------+\n",
      "only showing top 5 rows\n",
      "\n"
     ]
    }
   ],
   "source": [
    "query = \"\"\" \n",
    "    select *\n",
    "    from employeeterritory\n",
    "\"\"\"\n",
    "spark.sql(query).show(n=5, truncate=10)"
   ]
  },
  {
   "cell_type": "code",
   "execution_count": 38,
   "metadata": {},
   "outputs": [
    {
     "name": "stdout",
     "output_type": "stream",
     "text": [
      "+-----+----------+----------+----------+------------+-----------+-------+----------+----------+-----------+----------+----------+--------------+-----------+\n",
      "|   Id|CustomerId|EmployeeId| OrderDate|RequiredDate|ShippedDate|ShipVia|   Freight|  ShipName|ShipAddress|  ShipCity|ShipRegion|ShipPostalCode|ShipCountry|\n",
      "+-----+----------+----------+----------+------------+-----------+-------+----------+----------+-----------+----------+----------+--------------+-----------+\n",
      "|10248|     VINET|         5|2012-07-04|  2012-08-01| 2012-07-16|      3|32.3800...|Vins et...| 59 rue ...|     Reims|Western...|         51100|     France|\n",
      "|10249|     TOMSP|         6|2012-07-05|  2012-08-16| 2012-07-10|      1|11.6100...|Toms Sp...| Luisens...|   Münster|Western...|         44087|    Germany|\n",
      "|10250|     HANAR|         4|2012-07-08|  2012-08-05| 2012-07-12|      2|65.8300...|Hanari ...| Rua do ...|Rio de ...|South A...|     05454-876|     Brazil|\n",
      "|10251|     VICTE|         3|2012-07-08|  2012-08-05| 2012-07-15|      1|41.3400...|Victuai...| 2, rue ...|      Lyon|Western...|         69004|     France|\n",
      "|10252|     SUPRD|         4|2012-07-09|  2012-08-06| 2012-07-11|      2|51.3000...|Suprême...| Bouleva...| Charleroi|Western...|        B-6000|    Belgium|\n",
      "+-----+----------+----------+----------+------------+-----------+-------+----------+----------+-----------+----------+----------+--------------+-----------+\n",
      "only showing top 5 rows\n",
      "\n"
     ]
    }
   ],
   "source": [
    "query = \"\"\" \n",
    "    select *\n",
    "    from order\n",
    "\"\"\"\n",
    "spark.sql(query).show(n=5, truncate=10)"
   ]
  },
  {
   "cell_type": "code",
   "execution_count": 39,
   "metadata": {},
   "outputs": [
    {
     "name": "stdout",
     "output_type": "stream",
     "text": [
      "+--------+-------+---------+----------+--------+--------+\n",
      "|      Id|OrderId|ProductId| UnitPrice|Quantity|Discount|\n",
      "+--------+-------+---------+----------+--------+--------+\n",
      "|10248/11|  10248|       11|14.0000...|      12|     0.0|\n",
      "|10248/42|  10248|       42|9.80000...|      10|     0.0|\n",
      "|10248/72|  10248|       72|34.8000...|       5|     0.0|\n",
      "|10249/14|  10249|       14|18.6000...|       9|     0.0|\n",
      "|10249/51|  10249|       51|42.4000...|      40|     0.0|\n",
      "+--------+-------+---------+----------+--------+--------+\n",
      "only showing top 5 rows\n",
      "\n"
     ]
    }
   ],
   "source": [
    "query = \"\"\" \n",
    "    select *\n",
    "    from orderdetail\n",
    "\"\"\"\n",
    "spark.sql(query).show(n=5, truncate=10)"
   ]
  },
  {
   "cell_type": "code",
   "execution_count": 40,
   "metadata": {},
   "outputs": [
    {
     "name": "stdout",
     "output_type": "stream",
     "text": [
      "+---+-----------+----------+----------+---------------+----------+------------+------------+------------+------------+\n",
      "| Id|ProductName|SupplierId|CategoryId|QuantityPerUnit| UnitPrice|UnitsInStock|UnitsOnOrder|ReorderLevel|Discontinued|\n",
      "+---+-----------+----------+----------+---------------+----------+------------+------------+------------+------------+\n",
      "|  1|       Chai|         1|         1|     10 boxe...|18.0000...|          39|           0|          10|           0|\n",
      "|  2|      Chang|         1|         1|     24 - 12...|19.0000...|          17|          40|          25|           0|\n",
      "|  3| Aniseed...|         1|         2|     12 - 55...|10.0000...|          13|          70|          25|           0|\n",
      "|  4| Chef An...|         2|         2|     48 - 6 ...|22.0000...|          53|           0|           0|           0|\n",
      "|  5| Chef An...|         2|         2|       36 boxes|21.3500...|           0|           0|           0|           1|\n",
      "+---+-----------+----------+----------+---------------+----------+------------+------------+------------+------------+\n",
      "only showing top 5 rows\n",
      "\n"
     ]
    }
   ],
   "source": [
    "query = \"\"\" \n",
    "    select *\n",
    "    from product\n",
    "\"\"\"\n",
    "spark.sql(query).show(n=5, truncate=10)"
   ]
  },
  {
   "cell_type": "code",
   "execution_count": 41,
   "metadata": {},
   "outputs": [
    {
     "name": "stdout",
     "output_type": "stream",
     "text": [
      "+---+-----------------+\n",
      "| Id|RegionDescription|\n",
      "+---+-----------------+\n",
      "|  1|          Eastern|\n",
      "|  2|          Western|\n",
      "|  3|         Northern|\n",
      "|  4|         Southern|\n",
      "+---+-----------------+\n",
      "\n"
     ]
    }
   ],
   "source": [
    "query = \"\"\" \n",
    "    select *\n",
    "    from region\n",
    "\"\"\"\n",
    "spark.sql(query).show(n=5, truncate=10)"
   ]
  },
  {
   "cell_type": "code",
   "execution_count": 42,
   "metadata": {},
   "outputs": [
    {
     "name": "stdout",
     "output_type": "stream",
     "text": [
      "+---+-----------+----------+\n",
      "| Id|CompanyName|     Phone|\n",
      "+---+-----------+----------+\n",
      "|  1| Speedy ...|(503) 5...|\n",
      "|  2| United ...|(503) 5...|\n",
      "|  3| Federal...|(503) 5...|\n",
      "+---+-----------+----------+\n",
      "\n"
     ]
    }
   ],
   "source": [
    "query = \"\"\" \n",
    "    select *\n",
    "    from shipper\n",
    "\"\"\"\n",
    "spark.sql(query).show(n=5, truncate=10)"
   ]
  },
  {
   "cell_type": "code",
   "execution_count": 43,
   "metadata": {},
   "outputs": [
    {
     "name": "stdout",
     "output_type": "stream",
     "text": [
      "+---+-----------+-----------+------------+----------+----------+----------+----------+-------+----------+----------+----------+\n",
      "| Id|CompanyName|ContactName|ContactTitle|   Address|      City|    Region|PostalCode|Country|     Phone|       Fax|  HomePage|\n",
      "+---+-----------+-----------+------------+----------+----------+----------+----------+-------+----------+----------+----------+\n",
      "|  1| Exotic ...| Charlot...|  Purchas...|49 Gilb...|    London|British...|   EC1 4SD|     UK|(171) 5...|      NULL|      NULL|\n",
      "|  2| New Orl...| Shelley...|  Order A...|P.O. Bo...|New Orl...|North A...|     70117|    USA|(100) 5...|      NULL|#CAJUN....|\n",
      "|  3| Grandma...| Regina ...|  Sales R...|707 Oxf...| Ann Arbor|North A...|     48104|    USA|(313) 5...|(313) 5...|      NULL|\n",
      "|  4| Tokyo T...| Yoshi N...|  Marketi...|9-8 Sek...|     Tokyo|Eastern...|       100|  Japan|(03) 35...|      NULL|      NULL|\n",
      "|  5| Coopera...| Antonio...|  Export ...|Calle d...|    Oviedo|Souther...|     33007|  Spain|(98) 59...|      NULL|      NULL|\n",
      "+---+-----------+-----------+------------+----------+----------+----------+----------+-------+----------+----------+----------+\n",
      "only showing top 5 rows\n",
      "\n"
     ]
    }
   ],
   "source": [
    "query = \"\"\" \n",
    "    select *\n",
    "    from supplier\n",
    "\"\"\"\n",
    "spark.sql(query).show(n=5, truncate=10)"
   ]
  },
  {
   "cell_type": "code",
   "execution_count": 44,
   "metadata": {},
   "outputs": [
    {
     "name": "stdout",
     "output_type": "stream",
     "text": [
      "+-----+--------------------+--------+\n",
      "|   Id|TerritoryDescription|RegionId|\n",
      "+-----+--------------------+--------+\n",
      "|01581|            Westboro|       1|\n",
      "|01730|             Bedford|       1|\n",
      "|01833|           Georgetow|       1|\n",
      "|02116|              Boston|       1|\n",
      "|02139|           Cambridge|       1|\n",
      "+-----+--------------------+--------+\n",
      "only showing top 5 rows\n",
      "\n"
     ]
    }
   ],
   "source": [
    "query = \"\"\" \n",
    "    select *\n",
    "    from territory\n",
    "\"\"\"\n",
    "spark.sql(query).show(n=5, truncate=10)"
   ]
  },
  {
   "cell_type": "markdown",
   "metadata": {},
   "source": [
    "## 5. Câu hỏi\n",
    "\n",
    "Viết truy vấn SQL để trả lời các câu hỏi sau đồng thời thực thi các truy vấn đó để hiển thị kết quả."
   ]
  },
  {
   "cell_type": "markdown",
   "metadata": {},
   "source": [
    "### Q1. Liệt kê `name`, `address`, `city`, và `region` của các `employee` sống ở `'USA'`."
   ]
  },
  {
   "cell_type": "code",
   "execution_count": 52,
   "metadata": {},
   "outputs": [
    {
     "name": "stdout",
     "output_type": "stream",
     "text": [
      "+---------------+--------------------+--------+-------------+\n",
      "|           name|             address|    city|       region|\n",
      "+---------------+--------------------+--------+-------------+\n",
      "|   DavolioNancy|507 - 20th Ave. E...| Seattle|North America|\n",
      "|   FullerAndrew|  908 W. Capital Way|  Tacoma|North America|\n",
      "| LeverlingJanet|  722 Moss Bay Blvd.|Kirkland|North America|\n",
      "|PeacockMargaret|4110 Old Redmond Rd.| Redmond|North America|\n",
      "|  CallahanLaura|4726 - 11th Ave. ...| Seattle|North America|\n",
      "+---------------+--------------------+--------+-------------+\n",
      "\n"
     ]
    }
   ],
   "source": [
    "query = '''\n",
    "    SELECT \n",
    "        concat(LastName, FirstName) as name,\n",
    "        Address as address,\n",
    "        City as city,\n",
    "        Region as region \n",
    "    FROM\n",
    "        Employee\n",
    "    where\n",
    "        Country = 'USA'\n",
    "'''\n",
    "\n",
    "spark.sql(query).show()"
   ]
  },
  {
   "cell_type": "markdown",
   "metadata": {},
   "source": [
    "### Q2. Liệt kê `title` và `name` của các `employee` đã bán ít nhất một `product` có tên `'Gravad Lax'` hoặc `'Mishi Kobe Niku'`."
   ]
  },
  {
   "cell_type": "code",
   "execution_count": 66,
   "metadata": {},
   "outputs": [
    {
     "name": "stdout",
     "output_type": "stream",
     "text": [
      "+--------------------+--------------+\n",
      "|               Title|          name|\n",
      "+--------------------+--------------+\n",
      "|Sales Representative|JanetLeverling|\n",
      "|Sales Representative| AnneDodsworth|\n",
      "|Sales Representative|    RobertKing|\n",
      "|Vice President, S...|  AndrewFuller|\n",
      "+--------------------+--------------+\n",
      "\n"
     ]
    }
   ],
   "source": [
    "query = '''\n",
    "\n",
    "    WITH product_orders AS (\n",
    "        SELECT \n",
    "            p.ProductName,\n",
    "            o.EmployeeId,\n",
    "            o.Id\n",
    "        FROM\n",
    "            product p\n",
    "        JOIN\n",
    "            orderdetail od ON p.Id = od.ProductId\n",
    "        JOIN\n",
    "            order o ON od.OrderId = o.Id\n",
    "    ), \n",
    "    group_emp as (\n",
    "        select \n",
    "            po.EmployeeId\n",
    "        from \n",
    "            product_orders po\n",
    "        where po.ProductName = 'Gravad Lax' or po.ProductName = 'Mishi Kobe Niku'\n",
    "        group by po.EmployeeId\n",
    "        having count(*) > 0\n",
    "    ), \n",
    "    employee_info as (\n",
    "        select \n",
    "            Title,\n",
    "            concat(FirstName, LastName) as name\n",
    "        from \n",
    "            group_emp ge\n",
    "            join \n",
    "            employee e\n",
    "                on ge.EmployeeId = e.Id\n",
    "    )\n",
    "    SELECT \n",
    "        * \n",
    "    FROM\n",
    "        employee_info\n",
    "        \n",
    "'''\n",
    "\n",
    "spark.sql(query).show()"
   ]
  },
  {
   "cell_type": "markdown",
   "metadata": {},
   "source": [
    "### Q3. Liệt kê `name` và `title` của các `employee` và `name` và `title` của các `employee` khác mà họ phải báo cáo (`ReportsTo`) (hoặc `null` nếu họ không phải báo cáo với ai). "
   ]
  },
  {
   "cell_type": "code",
   "execution_count": 67,
   "metadata": {},
   "outputs": [
    {
     "name": "stdout",
     "output_type": "stream",
     "text": [
      "+----------------+--------------------+---------------+--------------------+\n",
      "|    EmployeeName|       EmployeeTitle|    ManagerName|        ManagerTitle|\n",
      "+----------------+--------------------+---------------+--------------------+\n",
      "|   Andrew Fuller|Vice President, S...|           NULL|                NULL|\n",
      "|  Michael Suyama|Sales Representative|Steven Buchanan|       Sales Manager|\n",
      "|     Robert King|Sales Representative|Steven Buchanan|       Sales Manager|\n",
      "|  Anne Dodsworth|Sales Representative|Steven Buchanan|       Sales Manager|\n",
      "|   Nancy Davolio|Sales Representative|  Andrew Fuller|Vice President, S...|\n",
      "| Janet Leverling|Sales Representative|  Andrew Fuller|Vice President, S...|\n",
      "|Margaret Peacock|Sales Representative|  Andrew Fuller|Vice President, S...|\n",
      "| Steven Buchanan|       Sales Manager|  Andrew Fuller|Vice President, S...|\n",
      "|  Laura Callahan|Inside Sales Coor...|  Andrew Fuller|Vice President, S...|\n",
      "+----------------+--------------------+---------------+--------------------+\n",
      "\n"
     ]
    }
   ],
   "source": [
    "query = '''\n",
    "    SELECT e.FirstName || ' ' || e.LastName AS EmployeeName, e.Title AS EmployeeTitle,\n",
    "        m.FirstName || ' ' || m.LastName AS ManagerName, m.Title AS ManagerTitle\n",
    "    FROM employee e\n",
    "    LEFT JOIN employee m ON e.ReportsTo = m.Id;\n",
    "'''\n",
    "\n",
    "spark.sql(query).show()"
   ]
  },
  {
   "cell_type": "markdown",
   "metadata": {},
   "source": [
    "### Q4. Liệt kê `customer name`, `product name` và `supplier name` cho các `customer` sống ở `'London'` và các `supplier` có tên `'Pavlova, Ltd.'` hoặc `'Karkki Oy'`."
   ]
  },
  {
   "cell_type": "code",
   "execution_count": 68,
   "metadata": {},
   "outputs": [
    {
     "name": "stdout",
     "output_type": "stream",
     "text": [
      "+------------------+----------------+-------------+\n",
      "|      CustomerName|     ProductName| SupplierName|\n",
      "+------------------+----------------+-------------+\n",
      "|Seven Seas Imports|    Alice Mutton|Pavlova, Ltd.|\n",
      "|Seven Seas Imports|         Pavlova|Pavlova, Ltd.|\n",
      "|   Around the Horn|   Outback Lager|Pavlova, Ltd.|\n",
      "|   Around the Horn|   Outback Lager|Pavlova, Ltd.|\n",
      "|       North/South|   Outback Lager|Pavlova, Ltd.|\n",
      "|       North/South|   Outback Lager|Pavlova, Ltd.|\n",
      "|     B's Beverages|   Outback Lager|Pavlova, Ltd.|\n",
      "|Seven Seas Imports|        Maxilaku|    Karkki Oy|\n",
      "|Eastern Connection|        Maxilaku|    Karkki Oy|\n",
      "|   Around the Horn|Valkoinen suklaa|    Karkki Oy|\n",
      "|   Around the Horn|Valkoinen suklaa|    Karkki Oy|\n",
      "|     B's Beverages|        Maxilaku|    Karkki Oy|\n",
      "+------------------+----------------+-------------+\n",
      "\n"
     ]
    }
   ],
   "source": [
    "query = '''\n",
    "    SELECT c.CompanyName AS CustomerName, p.ProductName, s.CompanyName AS SupplierName\n",
    "    FROM customer c\n",
    "    JOIN order o ON c.Id = o.CustomerId\n",
    "    JOIN orderdetail od ON o.Id = od.OrderId\n",
    "    JOIN product p ON od.ProductId = p.Id\n",
    "    JOIN supplier s ON p.SupplierId = s.Id\n",
    "    WHERE c.City = 'London' AND s.CompanyName IN ('Pavlova, Ltd.', 'Karkki Oy');\n",
    "'''\n",
    "\n",
    "spark.sql(query).show()\n"
   ]
  },
  {
   "cell_type": "markdown",
   "metadata": {},
   "source": [
    "### Q5. Liệt kê `name` của các `employee` có tuổi lớn hơn **một `employee` nào đó** sống ở `'London'`."
   ]
  },
  {
   "cell_type": "code",
   "execution_count": 74,
   "metadata": {},
   "outputs": [
    {
     "name": "stdout",
     "output_type": "stream",
     "text": [
      "+---------+---------+\n",
      "|FirstName| LastName|\n",
      "+---------+---------+\n",
      "|    Nancy|  Davolio|\n",
      "|   Andrew|   Fuller|\n",
      "|    Janet|Leverling|\n",
      "| Margaret|  Peacock|\n",
      "|   Steven| Buchanan|\n",
      "|  Michael|   Suyama|\n",
      "|   Robert|     King|\n",
      "|    Laura| Callahan|\n",
      "+---------+---------+\n",
      "\n"
     ]
    }
   ],
   "source": [
    "query = '''\n",
    "    SELECT FirstName, LastName\n",
    "    FROM employee\n",
    "    WHERE BirthDate < (\n",
    "        SELECT Max(BirthDate)\n",
    "        FROM employee\n",
    "        WHERE City = 'London'\n",
    "    );\n",
    "'''\n",
    "\n",
    "spark.sql(query).show()\n"
   ]
  },
  {
   "cell_type": "markdown",
   "metadata": {},
   "source": [
    "### Q6. Liệt kê `name` của các `employee` có tuổi lớn hơn **tất cả** `employee` sống ở `'London'`."
   ]
  },
  {
   "cell_type": "code",
   "execution_count": 73,
   "metadata": {},
   "outputs": [
    {
     "name": "stdout",
     "output_type": "stream",
     "text": [
      "+---------+--------+\n",
      "|FirstName|LastName|\n",
      "+---------+--------+\n",
      "|    Nancy| Davolio|\n",
      "|   Andrew|  Fuller|\n",
      "| Margaret| Peacock|\n",
      "+---------+--------+\n",
      "\n"
     ]
    }
   ],
   "source": [
    "query = '''\n",
    "    SELECT FirstName, LastName\n",
    "    FROM employee\n",
    "    WHERE BirthDate < (\n",
    "        SELECT Min(BirthDate)\n",
    "        FROM employee\n",
    "        WHERE City = 'London'\n",
    "    );\n",
    "'''\n",
    "\n",
    "spark.sql(query).show()\n"
   ]
  },
  {
   "cell_type": "markdown",
   "metadata": {},
   "source": [
    "### Q7. Liệt kê `name` của các `employee` làm việc lâu năm hơn **tất cả** `employee` ở `'London'`."
   ]
  },
  {
   "cell_type": "code",
   "execution_count": 76,
   "metadata": {},
   "outputs": [
    {
     "name": "stdout",
     "output_type": "stream",
     "text": [
      "+---------+---------+\n",
      "|FirstName| LastName|\n",
      "+---------+---------+\n",
      "|    Nancy|  Davolio|\n",
      "|   Andrew|   Fuller|\n",
      "|    Janet|Leverling|\n",
      "| Margaret|  Peacock|\n",
      "+---------+---------+\n",
      "\n"
     ]
    }
   ],
   "source": [
    "query = '''\n",
    "    SELECT FirstName, LastName\n",
    "    FROM employee e\n",
    "    WHERE e.HireDate < (\n",
    "        SELECT MIN(e2.HireDate)\n",
    "        FROM employee e2\n",
    "        WHERE e2.City = 'London'\n",
    "    );\n",
    "'''\n",
    "\n",
    "spark.sql(query).show()\n"
   ]
  },
  {
   "cell_type": "markdown",
   "metadata": {},
   "source": [
    "### Q8. Liệt kê name của các `employee` và `city` nơi họ sống đối với các `employee` đã bán hàng cho các `customer` ở cùng thành phố với họ."
   ]
  },
  {
   "cell_type": "code",
   "execution_count": 77,
   "metadata": {},
   "outputs": [
    {
     "name": "stdout",
     "output_type": "stream",
     "text": [
      "+---------------+-------+\n",
      "|   EmployeeName|   City|\n",
      "+---------------+-------+\n",
      "|  Nancy Davolio|Seattle|\n",
      "| Laura Callahan|Seattle|\n",
      "| Laura Callahan|Seattle|\n",
      "| Michael Suyama| London|\n",
      "| Anne Dodsworth| London|\n",
      "| Anne Dodsworth| London|\n",
      "|    Robert King| London|\n",
      "|    Robert King| London|\n",
      "|Steven Buchanan| London|\n",
      "|Steven Buchanan| London|\n",
      "| Michael Suyama| London|\n",
      "|    Robert King| London|\n",
      "| Michael Suyama| London|\n",
      "| Michael Suyama| London|\n",
      "|    Robert King| London|\n",
      "| Anne Dodsworth| London|\n",
      "|    Robert King| London|\n",
      "+---------------+-------+\n",
      "\n"
     ]
    }
   ],
   "source": [
    "query = '''\n",
    "    SELECT e.FirstName || ' ' || e.LastName AS EmployeeName, e.City\n",
    "    FROM employee e\n",
    "    JOIN order o ON e.Id = o.EmployeeId\n",
    "    JOIN customer c ON o.CustomerId = c.Id\n",
    "    WHERE e.City = c.City;\n",
    "'''\n",
    "\n",
    "spark.sql(query).show()\n"
   ]
  },
  {
   "cell_type": "markdown",
   "metadata": {},
   "source": [
    "### Q9. Liệt kê `name` của các `customer` không đặt bất cứ `product` nào."
   ]
  },
  {
   "cell_type": "code",
   "execution_count": 78,
   "metadata": {},
   "outputs": [
    {
     "name": "stdout",
     "output_type": "stream",
     "text": [
      "+--------------+\n",
      "|   ContactName|\n",
      "+--------------+\n",
      "|Antonio Moreno|\n",
      "|Janine Labrune|\n",
      "|    Diego Roel|\n",
      "|Yvonne Moncada|\n",
      "|Marie Bertrand|\n",
      "|Lúcia Carvalho|\n",
      "+--------------+\n",
      "\n"
     ]
    }
   ],
   "source": [
    "query = '''\n",
    "    SELECT ContactName\n",
    "    FROM customer\n",
    "    WHERE Id NOT IN (\n",
    "        SELECT DISTINCT CustomerId\n",
    "        FROM order\n",
    "    );\n",
    "'''\n",
    "\n",
    "spark.sql(query).show()\n"
   ]
  },
  {
   "cell_type": "markdown",
   "metadata": {},
   "source": [
    "### Q10. Liệt kê `name` của các `category` và giá trung bình (`average price`) của các `product` trong mỗi `category`."
   ]
  },
  {
   "cell_type": "code",
   "execution_count": 79,
   "metadata": {},
   "outputs": [
    {
     "name": "stdout",
     "output_type": "stream",
     "text": [
      "+--------------+--------------------+\n",
      "|  CategoryName|        AvgUnitPrice|\n",
      "+--------------+--------------------+\n",
      "|Dairy Products|28.73000000000000...|\n",
      "|  Meat/Poultry|54.00666666666666...|\n",
      "|    Condiments|23.06250000000000...|\n",
      "|     Beverages|37.97916666666666...|\n",
      "|Grains/Cereals|20.25000000000000...|\n",
      "|       Seafood|20.68250000000000...|\n",
      "|   Confections|25.16000000000000...|\n",
      "|       Produce|32.37000000000000...|\n",
      "+--------------+--------------------+\n",
      "\n"
     ]
    }
   ],
   "source": [
    "query = '''\n",
    "    SELECT cat.CategoryName, AVG(p.UnitPrice) AS AvgUnitPrice\n",
    "    FROM category cat\n",
    "    JOIN product p ON cat.Id = p.CategoryId\n",
    "    GROUP BY cat.CategoryName;\n",
    "'''\n",
    "\n",
    "spark.sql(query).show()\n"
   ]
  },
  {
   "cell_type": "markdown",
   "metadata": {},
   "source": [
    "### Q11. Liệt kê `id` và `name` của các `supplier` cung cấp hơn 3 `product`."
   ]
  },
  {
   "cell_type": "code",
   "execution_count": 80,
   "metadata": {},
   "outputs": [
    {
     "name": "stdout",
     "output_type": "stream",
     "text": [
      "+---+--------------------+\n",
      "| Id|         CompanyName|\n",
      "+---+--------------------+\n",
      "|  2|New Orleans Cajun...|\n",
      "|  7|       Pavlova, Ltd.|\n",
      "|  8|Specialty Biscuit...|\n",
      "| 12|Plutzer Lebensmit...|\n",
      "+---+--------------------+\n",
      "\n"
     ]
    }
   ],
   "source": [
    "query = '''\n",
    "    SELECT s.Id, s.CompanyName\n",
    "    FROM supplier s\n",
    "    JOIN product p ON s.Id = p.SupplierId\n",
    "    GROUP BY s.Id, s.CompanyName\n",
    "    HAVING COUNT(p.Id) > 3;\n",
    "'''\n",
    "\n",
    "spark.sql(query).show()\n"
   ]
  },
  {
   "cell_type": "markdown",
   "metadata": {},
   "source": [
    "### Q12. Liệt kê `id`, `name`, và `số lượng order` của các `employee` sắp xếp theo `employee id`."
   ]
  },
  {
   "cell_type": "code",
   "execution_count": 82,
   "metadata": {},
   "outputs": [
    {
     "name": "stdout",
     "output_type": "stream",
     "text": [
      "+---+---------+---------+--------+\n",
      "| Id|FirstName| LastName|OrderNum|\n",
      "+---+---------+---------+--------+\n",
      "|  1|    Nancy|  Davolio|     123|\n",
      "|  2|   Andrew|   Fuller|      96|\n",
      "|  3|    Janet|Leverling|     127|\n",
      "|  4| Margaret|  Peacock|     156|\n",
      "|  5|   Steven| Buchanan|      42|\n",
      "|  6|  Michael|   Suyama|      67|\n",
      "|  7|   Robert|     King|      72|\n",
      "|  8|    Laura| Callahan|     104|\n",
      "|  9|     Anne|Dodsworth|      43|\n",
      "+---+---------+---------+--------+\n",
      "\n"
     ]
    }
   ],
   "source": [
    "query = '''\n",
    "    SELECT e.Id, e.FirstName, e.LastName, COUNT(o.Id) AS OrderNum\n",
    "    FROM employee e\n",
    "    JOIN order o ON e.Id = o.EmployeeId\n",
    "    GROUP BY e.Id, e.FirstName, e.LastName\n",
    "    ORDER BY e.Id;\n",
    "'''\n",
    "\n",
    "spark.sql(query).show()\n"
   ]
  },
  {
   "cell_type": "markdown",
   "metadata": {},
   "source": [
    "### Q13. Với mỗi `employee`, liệt kê `id`, `name`, và `số loại product` khác nhau họ đã bán, sắp xếp `employee id`."
   ]
  },
  {
   "cell_type": "code",
   "execution_count": 84,
   "metadata": {},
   "outputs": [
    {
     "name": "stdout",
     "output_type": "stream",
     "text": [
      "+---+---------+---------+----------+\n",
      "| Id|FirstName| LastName|ProductNum|\n",
      "+---+---------+---------+----------+\n",
      "|  1|    Nancy|  Davolio|        72|\n",
      "|  2|   Andrew|   Fuller|        68|\n",
      "|  3|    Janet|Leverling|        74|\n",
      "|  4| Margaret|  Peacock|        75|\n",
      "|  5|   Steven| Buchanan|        52|\n",
      "|  6|  Michael|   Suyama|        57|\n",
      "|  7|   Robert|     King|        67|\n",
      "|  8|    Laura| Callahan|        70|\n",
      "|  9|     Anne|Dodsworth|        53|\n",
      "+---+---------+---------+----------+\n",
      "\n"
     ]
    }
   ],
   "source": [
    "query = '''\n",
    "    SELECT e.Id, e.FirstName, e.LastName, COUNT(DISTINCT od.ProductId) AS ProductNum\n",
    "    FROM employee e\n",
    "    JOIN order o ON e.Id = o.EmployeeId\n",
    "    JOIN orderdetail od ON o.Id = od.OrderId\n",
    "    GROUP BY e.Id, e.FirstName, e.LastName\n",
    "    ORDER BY e.Id;\n",
    "'''\n",
    "\n",
    "spark.sql(query).show()\n"
   ]
  },
  {
   "cell_type": "markdown",
   "metadata": {},
   "source": [
    "### Q14. Liệt kê `id`, `name`, và `tổng doanh thu` (sau khi trừ đi chiết khấu - `Discount`) của mỗi `employee`, sắp xếp theo `employee id`."
   ]
  },
  {
   "cell_type": "code",
   "execution_count": 85,
   "metadata": {},
   "outputs": [
    {
     "name": "stdout",
     "output_type": "stream",
     "text": [
      "+---+---------+---------+------------------+\n",
      "| Id|FirstName| LastName|        TotalSales|\n",
      "+---+---------+---------+------------------+\n",
      "|  1|    Nancy|  Davolio|192107.60449999993|\n",
      "|  2|   Andrew|   Fuller|        166537.755|\n",
      "|  3|    Janet|Leverling|        202812.843|\n",
      "|  4| Margaret|  Peacock|232890.84599999996|\n",
      "|  5|   Steven| Buchanan|        68792.2825|\n",
      "|  6|  Michael|   Suyama|        73913.1295|\n",
      "|  7|   Robert|     King|        124568.235|\n",
      "|  8|    Laura| Callahan|126862.27750000004|\n",
      "|  9|     Anne|Dodsworth|        77308.0665|\n",
      "+---+---------+---------+------------------+\n",
      "\n"
     ]
    }
   ],
   "source": [
    "query = '''\n",
    "    SELECT e.Id, e.FirstName, e.LastName, SUM(od.Quantity * od.UnitPrice * (1 - od.Discount)) AS TotalSales\n",
    "    FROM employee e\n",
    "    JOIN order o ON e.Id = o.EmployeeId\n",
    "    JOIN orderdetail od ON o.Id = od.OrderId\n",
    "    GROUP BY e.Id, e.FirstName, e.LastName\n",
    "    ORDER BY e.Id;\n",
    "'''\n",
    "\n",
    "spark.sql(query).show()\n"
   ]
  },
  {
   "cell_type": "markdown",
   "metadata": {},
   "source": [
    "### Q15. Liệt kê `id`, `name`, và `tổng doanh thu` (có trừ đi chiết khấu - `Discount`) của các `employee` đã bán được hơn `70` `product` khác nhau, sắp xếp theo `employee id`."
   ]
  },
  {
   "cell_type": "code",
   "execution_count": 86,
   "metadata": {},
   "outputs": [
    {
     "name": "stdout",
     "output_type": "stream",
     "text": [
      "+---+---------+---------+------------------+\n",
      "| Id|FirstName| LastName|        TotalSales|\n",
      "+---+---------+---------+------------------+\n",
      "|  1|    Nancy|  Davolio|192107.60449999996|\n",
      "|  3|    Janet|Leverling|202812.84300000005|\n",
      "|  4| Margaret|  Peacock|232890.84599999993|\n",
      "+---+---------+---------+------------------+\n",
      "\n"
     ]
    }
   ],
   "source": [
    "query = '''\n",
    "    SELECT e.Id, e.FirstName, e.LastName, SUM(od.Quantity * od.UnitPrice * (1 - od.Discount)) AS TotalSales\n",
    "    FROM employee e\n",
    "    JOIN order o ON e.Id = o.EmployeeId\n",
    "    JOIN orderdetail od ON o.Id = od.OrderId\n",
    "    GROUP BY e.Id, e.FirstName, e.LastName\n",
    "    HAVING COUNT(DISTINCT od.ProductId) > 70\n",
    "    ORDER BY e.Id;\n",
    "'''\n",
    "\n",
    "spark.sql(query).show()\n"
   ]
  },
  {
   "cell_type": "markdown",
   "metadata": {},
   "source": [
    "### Q16. Liệt kê `name` của các `employee` đã bán các `product` của hơn `28` `supplier`."
   ]
  },
  {
   "cell_type": "code",
   "execution_count": 87,
   "metadata": {},
   "outputs": [
    {
     "name": "stdout",
     "output_type": "stream",
     "text": [
      "+---------+---------+\n",
      "|FirstName| LastName|\n",
      "+---------+---------+\n",
      "|    Laura| Callahan|\n",
      "|    Janet|Leverling|\n",
      "|   Steven| Buchanan|\n",
      "|   Robert|     King|\n",
      "| Margaret|  Peacock|\n",
      "|   Andrew|   Fuller|\n",
      "|    Nancy|  Davolio|\n",
      "+---------+---------+\n",
      "\n"
     ]
    }
   ],
   "source": [
    "query = '''\n",
    "    SELECT e.FirstName, e.LastName\n",
    "    FROM employee e\n",
    "    JOIN order o ON e.Id = o.EmployeeId\n",
    "    JOIN orderdetail od ON o.Id = od.OrderId\n",
    "    JOIN product p ON od.ProductId = p.Id\n",
    "    GROUP BY e.Id, e.FirstName, e.LastName\n",
    "    HAVING COUNT(DISTINCT p.SupplierId) > 28;\n",
    "'''\n",
    "\n",
    "spark.sql(query).show()\n"
   ]
  },
  {
   "cell_type": "markdown",
   "metadata": {},
   "source": [
    "### Q17. Liệt kê `customer name` và `product name` sao cho `số lượng product` đó được mua bởi `customer` đó trong một `order` lớn hơn `5` lần `số lượng trung bình` `product` đó được mua trong một `order` bởi **tất cả** các `customer`."
   ]
  },
  {
   "cell_type": "code",
   "execution_count": 88,
   "metadata": {},
   "outputs": [
    {
     "name": "stdout",
     "output_type": "stream",
     "text": [
      "+--------------+--------------------+\n",
      "|   ContactName|         ProductName|\n",
      "+--------------+--------------------+\n",
      "| Roland Mendel|Wimmers gute Semm...|\n",
      "| Roland Mendel|Manjimup Dried Ap...|\n",
      "|Jose Pavarotti|Jack's New Englan...|\n",
      "+--------------+--------------------+\n",
      "\n"
     ]
    }
   ],
   "source": [
    "query = '''\n",
    "    SELECT c.ContactName, p.ProductName\n",
    "    FROM customer c\n",
    "    JOIN order o ON c.Id = o.CustomerId\n",
    "    JOIN orderdetail od ON o.Id = od.OrderId\n",
    "    JOIN product p ON od.ProductId = p.Id\n",
    "    WHERE od.Quantity > 5 * (\n",
    "        SELECT AVG(Quantity)\n",
    "        FROM orderdetail\n",
    "        WHERE ProductId = od.ProductId\n",
    "    );\n",
    "'''\n",
    "\n",
    "spark.sql(query).show()\n"
   ]
  },
  {
   "cell_type": "markdown",
   "metadata": {},
   "source": [
    "### Q18. Liệt kê `name` của các `customer` đã mua **tất cả** `product` với giá `< 5`."
   ]
  },
  {
   "cell_type": "code",
   "execution_count": 94,
   "metadata": {},
   "outputs": [
    {
     "name": "stdout",
     "output_type": "stream",
     "text": [
      "+------------------+\n",
      "|       ContactName|\n",
      "+------------------+\n",
      "|      Mario Pontes|\n",
      "|    Karl Jablonski|\n",
      "|   Maurizio Moroni|\n",
      "|     Peter Franken|\n",
      "|     Philip Cramer|\n",
      "|  Giovanni Rovelli|\n",
      "|       Palle Ibsen|\n",
      "|  Pascale Cartrain|\n",
      "|Christina Berglund|\n",
      "|  Jonas Bergulfsen|\n",
      "|       Horst Kloss|\n",
      "+------------------+\n",
      "\n"
     ]
    }
   ],
   "source": [
    "query = '''\n",
    "    WITH ProductsLessThan5 AS (\n",
    "        SELECT p.Id AS ProductId\n",
    "        FROM product p\n",
    "        WHERE p.UnitPrice < 5\n",
    "    )\n",
    "    SELECT c.ContactName\n",
    "    FROM customer c\n",
    "    LEFT JOIN order o ON o.CustomerId = c.Id\n",
    "    LEFT JOIN orderdetail od ON o.Id = od.OrderId\n",
    "    LEFT JOIN ProductsLessThan5 pl5 ON od.ProductId = pl5.ProductId\n",
    "    GROUP BY c.ContactName\n",
    "    HAVING COUNT(pl5.ProductId) = (SELECT COUNT(*) FROM ProductsLessThan5);\n",
    "'''\n",
    "\n",
    "spark.sql(query).show()\n"
   ]
  },
  {
   "cell_type": "markdown",
   "metadata": {},
   "source": [
    "### Q19. Liệt kê `name` của các `product` được bán bởi **mọi** `employee`."
   ]
  },
  {
   "cell_type": "code",
   "execution_count": 95,
   "metadata": {},
   "outputs": [
    {
     "name": "stdout",
     "output_type": "stream",
     "text": [
      "+--------------------+\n",
      "|         ProductName|\n",
      "+--------------------+\n",
      "|   Gorgonzola Telino|\n",
      "|Louisiana Fiery H...|\n",
      "|       Perth Pasties|\n",
      "|       Sasquatch Ale|\n",
      "|   Rössle Sauerkraut|\n",
      "|        Lakkalikööri|\n",
      "| Gumbär Gummibärchen|\n",
      "|  Schoggi Schokolade|\n",
      "|        Gula Malacca|\n",
      "|Queso Manchego La...|\n",
      "| Gustaf's Knäckebröd|\n",
      "|       Zaanse koeken|\n",
      "|                Chai|\n",
      "|            Filo Mix|\n",
      "|               Konbu|\n",
      "|Grandma's Boysenb...|\n",
      "|             Pavlova|\n",
      "|       Aniseed Syrup|\n",
      "|Sir Rodney's Marm...|\n",
      "|    Boston Crab Meat|\n",
      "+--------------------+\n",
      "only showing top 20 rows\n",
      "\n"
     ]
    }
   ],
   "source": [
    "query = '''\n",
    "    SELECT p.ProductName\n",
    "    FROM product p\n",
    "    WHERE NOT EXISTS (\n",
    "        SELECT 1\n",
    "        FROM employee e\n",
    "        LEFT JOIN order o ON o.EmployeeId = e.Id\n",
    "        LEFT JOIN orderdetail od ON o.Id = od.OrderId\n",
    "        WHERE od.ProductId = p.Id AND o.EmployeeId IS NULL\n",
    "    );\n",
    "'''\n",
    "\n",
    "spark.sql(query).show()\n"
   ]
  },
  {
   "cell_type": "markdown",
   "metadata": {},
   "source": [
    "### Q20. Liệt kê `name` của các `customer` đã mua **tất cả** các `product` được đặt hàng bởi `customer` có `id` là `'LAZYK'`."
   ]
  },
  {
   "cell_type": "code",
   "execution_count": 98,
   "metadata": {},
   "outputs": [
    {
     "name": "stdout",
     "output_type": "stream",
     "text": [
      "+-------------------+\n",
      "|        ContactName|\n",
      "+-------------------+\n",
      "|     Renate Messner|\n",
      "|         John Steel|\n",
      "|   Carlos Hernández|\n",
      "|Guillermo Fernández|\n",
      "|   Patricia McKenna|\n",
      "|      Philip Cramer|\n",
      "|Henriette Pfalzheim|\n",
      "|  Elizabeth Lincoln|\n",
      "|      Roland Mendel|\n",
      "+-------------------+\n",
      "\n"
     ]
    }
   ],
   "source": [
    "query = '''\n",
    "    WITH LAZYK_Orders AS (\n",
    "        SELECT DISTINCT od.ProductId\n",
    "        FROM order o\n",
    "        JOIN orderdetail od ON o.Id = od.OrderId\n",
    "        WHERE o.CustomerId = 'LAZYK'\n",
    "    )\n",
    "    SELECT c.ContactName\n",
    "    FROM customer c\n",
    "    LEFT JOIN order o ON o.CustomerId = c.Id\n",
    "    LEFT JOIN orderdetail od ON o.Id = od.OrderId\n",
    "    LEFT JOIN LAZYK_Orders lz ON od.ProductId = lz.ProductId\n",
    "    GROUP BY c.ContactName\n",
    "    HAVING COUNT(DISTINCT lz.ProductId) = (SELECT COUNT(*) FROM LAZYK_Orders);\n",
    "'''\n",
    "\n",
    "spark.sql(query).show()\n"
   ]
  }
 ],
 "metadata": {
  "kernelspec": {
   "display_name": "base",
   "language": "python",
   "name": "python3"
  },
  "language_info": {
   "codemirror_mode": {
    "name": "ipython",
    "version": 3
   },
   "file_extension": ".py",
   "mimetype": "text/x-python",
   "name": "python",
   "nbconvert_exporter": "python",
   "pygments_lexer": "ipython3",
   "version": "3.11.6"
  }
 },
 "nbformat": 4,
 "nbformat_minor": 4
}
